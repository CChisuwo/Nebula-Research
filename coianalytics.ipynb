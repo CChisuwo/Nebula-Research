{
 "cells": [
  {
   "cell_type": "markdown",
   "metadata": {},
   "source": [
    "# Geological Survey Department (GSD) Mineral/Gemstone Data Catalogue"
   ]
  },
  {
   "cell_type": "markdown",
   "metadata": {},
   "source": [
    "## 1. Mineral/Gemstone Export and Trade Data \n",
    "This section shows the commodity exports from the Regional Geological Survey office in Lilongwe inspection certificates"
   ]
  },
  {
   "cell_type": "code",
   "execution_count": 25,
   "metadata": {},
   "outputs": [
    {
     "data": {
      "application/vnd.plotly.v1+json": {
       "config": {
        "linkText": "Export to plot.ly",
        "plotlyServerURL": "https://plot.ly",
        "showLink": false
       },
       "data": [
        {
         "hovertemplate": "<b>%{hovertext}</b><br><br>Export_Type=Gemstone<br>Date=%{x}<br>CoE=%{y}<br>Weight (Kg)=%{marker.size}<extra></extra>",
         "hovertext": [
          "Tourmaline",
          "Tourmaline",
          "Red_Garnet",
          "Tourmaline_Cabochon",
          "Amethyst_Quartz",
          "Topaz",
          "Red_Garnet",
          "Tourmaline_Cabochon",
          "Blue_Corundum",
          "Blue_Corundum",
          "Topaz",
          "Tourmaline",
          "Red_Garnet",
          "Tourmaline",
          "Rhodolite",
          "Amethyst_Quartz",
          "Mandarin_Garnets ",
          "Topaz",
          "Aquamarine",
          "Aquamarine",
          "Aquamarine",
          "Aquamarine",
          "Aquamarine",
          "Aquamarine",
          "Aquamarine",
          "Amethyst_Quartz",
          "Rhodolite",
          "citrine",
          "quartz",
          "Rose_Quartz",
          "White_Quartz",
          "Cabochon_Sapphires ",
          "Aquamarine",
          "Red_Garnet",
          "Tourmaline",
          "Rhodolite",
          "Green_tourmaline",
          "Aquamarine",
          "Garnet                                ",
          "Tourmaline",
          "Amethyst_Quartz"
         ],
         "legendgroup": "Export_Type=Gemstone",
         "marker": {
          "color": "#636efa",
          "size": [
           0.04775,
           0.06532,
           0.04068,
           0.00343,
           0.0343,
           0.00893,
           0.0072299999999999994,
           0.8,
           70,
           70,
           2.74,
           0.042,
           0.027999999999999997,
           0.017,
           0.09,
           105,
           4.78,
           22,
           58,
           400,
           13.73,
           0.02,
           0.65,
           2,
           0.6,
           2,
           7.2,
           1,
           32,
           11.7,
           0.15,
           3.85,
           1,
           7,
           11.85,
           29.15,
           0.1,
           0.114,
           0.027960000000000002,
           0.0035,
           0.021
          ],
          "sizemode": "area",
          "sizeref": 1,
          "symbol": "circle"
         },
         "mode": "markers",
         "name": "Export_Type=Gemstone",
         "showlegend": true,
         "type": "scatter",
         "uid": "351aa172-77bb-4368-a6ec-bc9678da7f99",
         "x": [
          "1/7/2019",
          "1/7/2019",
          "1/7/2019",
          "1/7/2019",
          "1/7/2019",
          "1/7/2019",
          "1/7/2019",
          "1/7/2019",
          "1/7/2019",
          "1/7/2019",
          "1/8/2019",
          "1/8/2019",
          "1/8/2019",
          "1/8/2019",
          "1/8/2019",
          "1/8/2019",
          "1/8/2019",
          "1/8/2019",
          "1/9/2019",
          "1/9/2019",
          "1/9/2019",
          "1/22/2019",
          "2/6/2019",
          "2/6/2019",
          "2/6/2019",
          "2/9/2019",
          "2/9/2019",
          "2/12/2019",
          "2/12/2019",
          "2/12/2019",
          "2/12/2019",
          "2/12/2019",
          "2/12/2019",
          "2/12/2019",
          "2/12/2019",
          "2/12/2019",
          "2/26/2019",
          "3/5/2019",
          "3/5/2019",
          "3/5/2019",
          "3/5/2019"
         ],
         "xaxis": "x",
         "y": [
          "DUBAI",
          "DUBAI",
          "DUBAI",
          "DUBAI",
          "DUBAI",
          "DUBAI",
          "DUBAI",
          "CHINA",
          "THAILAND",
          "THAILAND",
          "CHINA",
          "USA",
          "USA",
          "USA",
          "USA",
          "INDIA",
          "INDIA",
          "INDIA",
          "KENYA",
          "CHINA",
          "THAILAND",
          "ZAMBIA",
          "SRILANKA",
          "SRILANKA",
          "SRILANKA",
          "USA",
          "USA",
          "PAKISTAN",
          "USA",
          "PAKISTAN",
          "PAKISTAN",
          "PAKISTAN",
          "PAKISTAN",
          "USA",
          "USA",
          "USA",
          "RUSSIA",
          "USA",
          "USA",
          "USA",
          "USA"
         ],
         "yaxis": "y"
        },
        {
         "hovertemplate": "<b>%{hovertext}</b><br><br>Export_Type=Mineral<br>Date=%{x}<br>CoE=%{y}<br>Weight (Kg)=%{marker.size}<extra></extra>",
         "hovertext": [
          "Soil samples"
         ],
         "legendgroup": "Export_Type=Mineral",
         "marker": {
          "color": "#EF553B",
          "size": [
           1.25
          ],
          "sizemode": "area",
          "sizeref": 1,
          "symbol": "circle"
         },
         "mode": "markers",
         "name": "Export_Type=Mineral",
         "showlegend": true,
         "type": "scatter",
         "uid": "6bbb6175-d00c-40a0-9d93-7cfa74223066",
         "x": [
          "2/9/2019"
         ],
         "xaxis": "x",
         "y": [
          "USA"
         ],
         "yaxis": "y"
        }
       ],
       "layout": {
        "autosize": true,
        "grid": {
         "xaxes": [
          "x"
         ],
         "xgap": 0.1,
         "xside": "bottom",
         "yaxes": [
          "y"
         ],
         "ygap": 0.1,
         "yside": "left"
        },
        "legend": {
         "tracegroupgap": 0
        },
        "margin": {
         "t": 60
        },
        "template": {
         "data": {
          "bar": [
           {
            "marker": {
             "line": {
              "color": "#E5ECF6",
              "width": 0.5
             }
            },
            "type": "bar"
           }
          ],
          "barpolar": [
           {
            "marker": {
             "line": {
              "color": "#E5ECF6",
              "width": 0.5
             }
            },
            "type": "barpolar"
           }
          ],
          "carpet": [
           {
            "aaxis": {
             "endlinecolor": "#2a3f5f",
             "gridcolor": "white",
             "linecolor": "white",
             "minorgridcolor": "white",
             "startlinecolor": "#2a3f5f"
            },
            "baxis": {
             "endlinecolor": "#2a3f5f",
             "gridcolor": "white",
             "linecolor": "white",
             "minorgridcolor": "white",
             "startlinecolor": "#2a3f5f"
            },
            "type": "carpet"
           }
          ],
          "choropleth": [
           {
            "colorbar": {
             "outlinewidth": 0,
             "ticks": ""
            },
            "type": "choropleth"
           }
          ],
          "contour": [
           {
            "autocolorscale": true,
            "colorbar": {
             "outlinewidth": 0,
             "ticks": ""
            },
            "type": "contour"
           }
          ],
          "contourcarpet": [
           {
            "colorbar": {
             "outlinewidth": 0,
             "ticks": ""
            },
            "type": "contourcarpet"
           }
          ],
          "heatmap": [
           {
            "autocolorscale": true,
            "colorbar": {
             "outlinewidth": 0,
             "ticks": ""
            },
            "type": "heatmap"
           }
          ],
          "heatmapgl": [
           {
            "colorbar": {
             "outlinewidth": 0,
             "ticks": ""
            },
            "type": "heatmapgl"
           }
          ],
          "histogram": [
           {
            "marker": {
             "colorbar": {
              "outlinewidth": 0,
              "ticks": ""
             }
            },
            "type": "histogram"
           }
          ],
          "histogram2d": [
           {
            "autocolorscale": true,
            "colorbar": {
             "outlinewidth": 0,
             "ticks": ""
            },
            "type": "histogram2d"
           }
          ],
          "histogram2dcontour": [
           {
            "autocolorscale": true,
            "colorbar": {
             "outlinewidth": 0,
             "ticks": ""
            },
            "type": "histogram2dcontour"
           }
          ],
          "mesh3d": [
           {
            "colorbar": {
             "outlinewidth": 0,
             "ticks": ""
            },
            "type": "mesh3d"
           }
          ],
          "parcoords": [
           {
            "line": {
             "colorbar": {
              "outlinewidth": 0,
              "ticks": ""
             }
            },
            "type": "parcoords"
           }
          ],
          "scatter": [
           {
            "marker": {
             "colorbar": {
              "outlinewidth": 0,
              "ticks": ""
             }
            },
            "type": "scatter"
           }
          ],
          "scatter3d": [
           {
            "marker": {
             "colorbar": {
              "outlinewidth": 0,
              "ticks": ""
             }
            },
            "type": "scatter3d"
           }
          ],
          "scattercarpet": [
           {
            "marker": {
             "colorbar": {
              "outlinewidth": 0,
              "ticks": ""
             }
            },
            "type": "scattercarpet"
           }
          ],
          "scattergeo": [
           {
            "marker": {
             "colorbar": {
              "outlinewidth": 0,
              "ticks": ""
             }
            },
            "type": "scattergeo"
           }
          ],
          "scattergl": [
           {
            "marker": {
             "colorbar": {
              "outlinewidth": 0,
              "ticks": ""
             }
            },
            "type": "scattergl"
           }
          ],
          "scattermapbox": [
           {
            "marker": {
             "colorbar": {
              "outlinewidth": 0,
              "ticks": ""
             }
            },
            "type": "scattermapbox"
           }
          ],
          "scatterpolar": [
           {
            "marker": {
             "colorbar": {
              "outlinewidth": 0,
              "ticks": ""
             }
            },
            "type": "scatterpolar"
           }
          ],
          "scatterpolargl": [
           {
            "marker": {
             "colorbar": {
              "outlinewidth": 0,
              "ticks": ""
             }
            },
            "type": "scatterpolargl"
           }
          ],
          "scatterternary": [
           {
            "marker": {
             "colorbar": {
              "outlinewidth": 0,
              "ticks": ""
             }
            },
            "type": "scatterternary"
           }
          ],
          "surface": [
           {
            "colorbar": {
             "outlinewidth": 0,
             "ticks": ""
            },
            "type": "surface"
           }
          ],
          "table": [
           {
            "cells": {
             "fill": {
              "color": "#EBF0F8"
             },
             "line": {
              "color": "white"
             }
            },
            "header": {
             "fill": {
              "color": "#C8D4E3"
             },
             "line": {
              "color": "white"
             }
            },
            "type": "table"
           }
          ]
         },
         "layout": {
          "annotationdefaults": {
           "arrowcolor": "#506784",
           "arrowhead": 0,
           "arrowwidth": 1
          },
          "colorscale": {
           "diverging": [
            [
             0,
             "#8e0152"
            ],
            [
             0.1,
             "#c51b7d"
            ],
            [
             0.2,
             "#de77ae"
            ],
            [
             0.3,
             "#f1b6da"
            ],
            [
             0.4,
             "#fde0ef"
            ],
            [
             0.5,
             "#f7f7f7"
            ],
            [
             0.6,
             "#e6f5d0"
            ],
            [
             0.7,
             "#b8e186"
            ],
            [
             0.8,
             "#7fbc41"
            ],
            [
             0.9,
             "#4d9221"
            ],
            [
             1,
             "#276419"
            ]
           ],
           "sequential": [
            [
             0,
             "#0508b8"
            ],
            [
             0.0893854748603352,
             "#1910d8"
            ],
            [
             0.1787709497206704,
             "#3c19f0"
            ],
            [
             0.2681564245810056,
             "#6b1cfb"
            ],
            [
             0.3575418994413408,
             "#981cfd"
            ],
            [
             0.44692737430167595,
             "#bf1cfd"
            ],
            [
             0.5363128491620112,
             "#dd2bfd"
            ],
            [
             0.6256983240223464,
             "#f246fe"
            ],
            [
             0.7150837988826816,
             "#fc67fd"
            ],
            [
             0.8044692737430168,
             "#fe88fc"
            ],
            [
             0.8938547486033519,
             "#fea5fd"
            ],
            [
             0.9832402234636871,
             "#febefe"
            ],
            [
             1,
             "#fec3fe"
            ]
           ],
           "sequentialminus": [
            [
             0,
             "#0508b8"
            ],
            [
             0.0893854748603352,
             "#1910d8"
            ],
            [
             0.1787709497206704,
             "#3c19f0"
            ],
            [
             0.2681564245810056,
             "#6b1cfb"
            ],
            [
             0.3575418994413408,
             "#981cfd"
            ],
            [
             0.44692737430167595,
             "#bf1cfd"
            ],
            [
             0.5363128491620112,
             "#dd2bfd"
            ],
            [
             0.6256983240223464,
             "#f246fe"
            ],
            [
             0.7150837988826816,
             "#fc67fd"
            ],
            [
             0.8044692737430168,
             "#fe88fc"
            ],
            [
             0.8938547486033519,
             "#fea5fd"
            ],
            [
             0.9832402234636871,
             "#febefe"
            ],
            [
             1,
             "#fec3fe"
            ]
           ]
          },
          "colorway": [
           "#636efa",
           "#EF553B",
           "#00cc96",
           "#ab63fa",
           "#19d3f3",
           "#e763fa",
           "#FECB52",
           "#FFA15A",
           "#FF6692",
           "#B6E880"
          ],
          "font": {
           "color": "#2a3f5f"
          },
          "geo": {
           "bgcolor": "white",
           "lakecolor": "white",
           "landcolor": "#E5ECF6",
           "showlakes": true,
           "showland": true,
           "subunitcolor": "white"
          },
          "hovermode": "closest",
          "mapbox": {
           "style": "light"
          },
          "paper_bgcolor": "white",
          "plot_bgcolor": "#E5ECF6",
          "polar": {
           "angularaxis": {
            "gridcolor": "white",
            "linecolor": "white",
            "ticks": ""
           },
           "bgcolor": "#E5ECF6",
           "radialaxis": {
            "gridcolor": "white",
            "linecolor": "white",
            "ticks": ""
           }
          },
          "scene": {
           "xaxis": {
            "backgroundcolor": "#E5ECF6",
            "gridcolor": "white",
            "gridwidth": 2,
            "linecolor": "white",
            "showbackground": true,
            "ticks": "",
            "zerolinecolor": "white"
           },
           "yaxis": {
            "backgroundcolor": "#E5ECF6",
            "gridcolor": "white",
            "gridwidth": 2,
            "linecolor": "white",
            "showbackground": true,
            "ticks": "",
            "zerolinecolor": "white"
           },
           "zaxis": {
            "backgroundcolor": "#E5ECF6",
            "gridcolor": "white",
            "gridwidth": 2,
            "linecolor": "white",
            "showbackground": true,
            "ticks": "",
            "zerolinecolor": "white"
           }
          },
          "shapedefaults": {
           "fillcolor": "#506784",
           "line": {
            "width": 0
           },
           "opacity": 0.4
          },
          "ternary": {
           "aaxis": {
            "gridcolor": "white",
            "linecolor": "white",
            "ticks": ""
           },
           "baxis": {
            "gridcolor": "white",
            "linecolor": "white",
            "ticks": ""
           },
           "bgcolor": "#E5ECF6",
           "caxis": {
            "gridcolor": "white",
            "linecolor": "white",
            "ticks": ""
           }
          },
          "title": {
           "x": 0.05
          },
          "xaxis": {
           "automargin": true,
           "gridcolor": "white",
           "linecolor": "white",
           "ticks": "",
           "zerolinecolor": "white",
           "zerolinewidth": 2
          },
          "yaxis": {
           "automargin": true,
           "gridcolor": "white",
           "linecolor": "white",
           "ticks": "",
           "zerolinecolor": "white",
           "zerolinewidth": 2
          }
         }
        },
        "xaxis": {
         "autorange": true,
         "range": [
          -0.5478800936758977,
          8.495581706658315
         ],
         "title": {
          "text": "Date"
         },
         "type": "category"
        },
        "yaxis": {
         "autorange": true,
         "range": [
          -0.573529411764706,
          9.573529411764707
         ],
         "title": {
          "text": "CoE"
         },
         "type": "category"
        }
       }
      },
      "image/png": "[encoded data removed]",
      "text/html": [
       "<div id=\"2d35fa38-6a8e-4602-b16c-65a5080348e7\" style=\"height: 600px; width: 100%;\" class=\"plotly-graph-div\"></div><script type=\"text/javascript\">require([\"plotly\"], function(Plotly) { window.PLOTLYENV=window.PLOTLYENV || {};window.PLOTLYENV.BASE_URL=\"https://plot.ly\";\n",
       "if (document.getElementById(\"2d35fa38-6a8e-4602-b16c-65a5080348e7\")) {\n",
       "    Plotly.newPlot(\"2d35fa38-6a8e-4602-b16c-65a5080348e7\", [{\"hovertemplate\": \"<b>%{hovertext}</b><br><br>Export_Type=Gemstone<br>Date=%{x}<br>CoE=%{y}<br>Weight (Kg)=%{marker.size}<extra></extra>\", \"hovertext\": [\"Tourmaline\", \"Tourmaline\", \"Red_Garnet\", \"Tourmaline_Cabochon\", \"Amethyst_Quartz\", \"Topaz\", \"Red_Garnet\", \"Tourmaline_Cabochon\", \"Blue_Corundum\", \"Blue_Corundum\", \"Topaz\", \"Tourmaline\", \"Red_Garnet\", \"Tourmaline\", \"Rhodolite\", \"Amethyst_Quartz\", \"Mandarin_Garnets \", \"Topaz\", \"Aquamarine\", \"Aquamarine\", \"Aquamarine\", \"Aquamarine\", \"Aquamarine\", \"Aquamarine\", \"Aquamarine\", \"Amethyst_Quartz\", \"Rhodolite\", \"citrine\", \"quartz\", \"Rose_Quartz\", \"White_Quartz\", \"Cabochon_Sapphires \", \"Aquamarine\", \"Red_Garnet\", \"Tourmaline\", \"Rhodolite\", \"Green_tourmaline\", \"Aquamarine\", \"Garnet                                \", \"Tourmaline\", \"Amethyst_Quartz\"], \"legendgroup\": \"Export_Type=Gemstone\", \"marker\": {\"color\": \"#636efa\", \"size\": [0.04775, 0.06532, 0.04068, 0.00343, 0.0343, 0.00893, 0.0072299999999999994, 0.8, 70.0, 70.0, 2.74, 0.042, 0.027999999999999997, 0.017, 0.09, 105.0, 4.78, 22.0, 58.0, 400.0, 13.73, 0.02, 0.65, 2.0, 0.6, 2.0, 7.2, 1.0, 32.0, 11.7, 0.15, 3.85, 1.0, 7.0, 11.85, 29.15, 0.1, 0.114, 0.027960000000000002, 0.0035, 0.021], \"sizemode\": \"area\", \"sizeref\": 1.0, \"symbol\": \"circle\"}, \"mode\": \"markers\", \"name\": \"Export_Type=Gemstone\", \"showlegend\": true, \"x\": [\"1/7/2019\", \"1/7/2019\", \"1/7/2019\", \"1/7/2019\", \"1/7/2019\", \"1/7/2019\", \"1/7/2019\", \"1/7/2019\", \"1/7/2019\", \"1/7/2019\", \"1/8/2019\", \"1/8/2019\", \"1/8/2019\", \"1/8/2019\", \"1/8/2019\", \"1/8/2019\", \"1/8/2019\", \"1/8/2019\", \"1/9/2019\", \"1/9/2019\", \"1/9/2019\", \"1/22/2019\", \"2/6/2019\", \"2/6/2019\", \"2/6/2019\", \"2/9/2019\", \"2/9/2019\", \"2/12/2019\", \"2/12/2019\", \"2/12/2019\", \"2/12/2019\", \"2/12/2019\", \"2/12/2019\", \"2/12/2019\", \"2/12/2019\", \"2/12/2019\", \"2/26/2019\", \"3/5/2019\", \"3/5/2019\", \"3/5/2019\", \"3/5/2019\"], \"xaxis\": \"x\", \"y\": [\"DUBAI\", \"DUBAI\", \"DUBAI\", \"DUBAI\", \"DUBAI\", \"DUBAI\", \"DUBAI\", \"CHINA\", \"THAILAND\", \"THAILAND\", \"CHINA\", \"USA\", \"USA\", \"USA\", \"USA\", \"INDIA\", \"INDIA\", \"INDIA\", \"KENYA\", \"CHINA\", \"THAILAND\", \"ZAMBIA\", \"SRILANKA\", \"SRILANKA\", \"SRILANKA\", \"USA\", \"USA\", \"PAKISTAN\", \"USA\", \"PAKISTAN\", \"PAKISTAN\", \"PAKISTAN\", \"PAKISTAN\", \"USA\", \"USA\", \"USA\", \"RUSSIA\", \"USA\", \"USA\", \"USA\", \"USA\"], \"yaxis\": \"y\", \"type\": \"scatter\", \"uid\": \"351aa172-77bb-4368-a6ec-bc9678da7f99\"}, {\"hovertemplate\": \"<b>%{hovertext}</b><br><br>Export_Type=Mineral<br>Date=%{x}<br>CoE=%{y}<br>Weight (Kg)=%{marker.size}<extra></extra>\", \"hovertext\": [\"Soil samples\"], \"legendgroup\": \"Export_Type=Mineral\", \"marker\": {\"color\": \"#EF553B\", \"size\": [1.25], \"sizemode\": \"area\", \"sizeref\": 1.0, \"symbol\": \"circle\"}, \"mode\": \"markers\", \"name\": \"Export_Type=Mineral\", \"showlegend\": true, \"x\": [\"2/9/2019\"], \"xaxis\": \"x\", \"y\": [\"USA\"], \"yaxis\": \"y\", \"type\": \"scatter\", \"uid\": \"6bbb6175-d00c-40a0-9d93-7cfa74223066\"}], {\"height\": 600, \"legend\": {\"tracegroupgap\": 0}, \"margin\": {\"t\": 60}, \"template\": {\"data\": {\"barpolar\": [{\"marker\": {\"line\": {\"color\": \"#E5ECF6\", \"width\": 0.5}}, \"type\": \"barpolar\"}], \"bar\": [{\"marker\": {\"line\": {\"color\": \"#E5ECF6\", \"width\": 0.5}}, \"type\": \"bar\"}], \"carpet\": [{\"aaxis\": {\"endlinecolor\": \"#2a3f5f\", \"gridcolor\": \"white\", \"linecolor\": \"white\", \"minorgridcolor\": \"white\", \"startlinecolor\": \"#2a3f5f\"}, \"baxis\": {\"endlinecolor\": \"#2a3f5f\", \"gridcolor\": \"white\", \"linecolor\": \"white\", \"minorgridcolor\": \"white\", \"startlinecolor\": \"#2a3f5f\"}, \"type\": \"carpet\"}], \"choropleth\": [{\"colorbar\": {\"outlinewidth\": 0, \"ticks\": \"\"}, \"type\": \"choropleth\"}], \"contourcarpet\": [{\"colorbar\": {\"outlinewidth\": 0, \"ticks\": \"\"}, \"type\": \"contourcarpet\"}], \"contour\": [{\"autocolorscale\": true, \"colorbar\": {\"outlinewidth\": 0, \"ticks\": \"\"}, \"type\": \"contour\"}], \"heatmapgl\": [{\"colorbar\": {\"outlinewidth\": 0, \"ticks\": \"\"}, \"type\": \"heatmapgl\"}], \"heatmap\": [{\"autocolorscale\": true, \"colorbar\": {\"outlinewidth\": 0, \"ticks\": \"\"}, \"type\": \"heatmap\"}], \"histogram2dcontour\": [{\"autocolorscale\": true, \"colorbar\": {\"outlinewidth\": 0, \"ticks\": \"\"}, \"type\": \"histogram2dcontour\"}], \"histogram2d\": [{\"autocolorscale\": true, \"colorbar\": {\"outlinewidth\": 0, \"ticks\": \"\"}, \"type\": \"histogram2d\"}], \"histogram\": [{\"marker\": {\"colorbar\": {\"outlinewidth\": 0, \"ticks\": \"\"}}, \"type\": \"histogram\"}], \"mesh3d\": [{\"colorbar\": {\"outlinewidth\": 0, \"ticks\": \"\"}, \"type\": \"mesh3d\"}], \"parcoords\": [{\"line\": {\"colorbar\": {\"outlinewidth\": 0, \"ticks\": \"\"}}, \"type\": \"parcoords\"}], \"scatter3d\": [{\"marker\": {\"colorbar\": {\"outlinewidth\": 0, \"ticks\": \"\"}}, \"type\": \"scatter3d\"}], \"scattercarpet\": [{\"marker\": {\"colorbar\": {\"outlinewidth\": 0, \"ticks\": \"\"}}, \"type\": \"scattercarpet\"}], \"scattergeo\": [{\"marker\": {\"colorbar\": {\"outlinewidth\": 0, \"ticks\": \"\"}}, \"type\": \"scattergeo\"}], \"scattergl\": [{\"marker\": {\"colorbar\": {\"outlinewidth\": 0, \"ticks\": \"\"}}, \"type\": \"scattergl\"}], \"scattermapbox\": [{\"marker\": {\"colorbar\": {\"outlinewidth\": 0, \"ticks\": \"\"}}, \"type\": \"scattermapbox\"}], \"scatterpolargl\": [{\"marker\": {\"colorbar\": {\"outlinewidth\": 0, \"ticks\": \"\"}}, \"type\": \"scatterpolargl\"}], \"scatterpolar\": [{\"marker\": {\"colorbar\": {\"outlinewidth\": 0, \"ticks\": \"\"}}, \"type\": \"scatterpolar\"}], \"scatter\": [{\"marker\": {\"colorbar\": {\"outlinewidth\": 0, \"ticks\": \"\"}}, \"type\": \"scatter\"}], \"scatterternary\": [{\"marker\": {\"colorbar\": {\"outlinewidth\": 0, \"ticks\": \"\"}}, \"type\": \"scatterternary\"}], \"surface\": [{\"colorbar\": {\"outlinewidth\": 0, \"ticks\": \"\"}, \"type\": \"surface\"}], \"table\": [{\"cells\": {\"fill\": {\"color\": \"#EBF0F8\"}, \"line\": {\"color\": \"white\"}}, \"header\": {\"fill\": {\"color\": \"#C8D4E3\"}, \"line\": {\"color\": \"white\"}}, \"type\": \"table\"}]}, \"layout\": {\"annotationdefaults\": {\"arrowcolor\": \"#506784\", \"arrowhead\": 0, \"arrowwidth\": 1}, \"colorscale\": {\"diverging\": [[0, \"#8e0152\"], [0.1, \"#c51b7d\"], [0.2, \"#de77ae\"], [0.3, \"#f1b6da\"], [0.4, \"#fde0ef\"], [0.5, \"#f7f7f7\"], [0.6, \"#e6f5d0\"], [0.7, \"#b8e186\"], [0.8, \"#7fbc41\"], [0.9, \"#4d9221\"], [1, \"#276419\"]], \"sequential\": [[0.0, \"#0508b8\"], [0.0893854748603352, \"#1910d8\"], [0.1787709497206704, \"#3c19f0\"], [0.2681564245810056, \"#6b1cfb\"], [0.3575418994413408, \"#981cfd\"], [0.44692737430167595, \"#bf1cfd\"], [0.5363128491620112, \"#dd2bfd\"], [0.6256983240223464, \"#f246fe\"], [0.7150837988826816, \"#fc67fd\"], [0.8044692737430168, \"#fe88fc\"], [0.8938547486033519, \"#fea5fd\"], [0.9832402234636871, \"#febefe\"], [1.0, \"#fec3fe\"]], \"sequentialminus\": [[0.0, \"#0508b8\"], [0.0893854748603352, \"#1910d8\"], [0.1787709497206704, \"#3c19f0\"], [0.2681564245810056, \"#6b1cfb\"], [0.3575418994413408, \"#981cfd\"], [0.44692737430167595, \"#bf1cfd\"], [0.5363128491620112, \"#dd2bfd\"], [0.6256983240223464, \"#f246fe\"], [0.7150837988826816, \"#fc67fd\"], [0.8044692737430168, \"#fe88fc\"], [0.8938547486033519, \"#fea5fd\"], [0.9832402234636871, \"#febefe\"], [1.0, \"#fec3fe\"]]}, \"colorway\": [\"#636efa\", \"#EF553B\", \"#00cc96\", \"#ab63fa\", \"#19d3f3\", \"#e763fa\", \"#FECB52\", \"#FFA15A\", \"#FF6692\", \"#B6E880\"], \"font\": {\"color\": \"#2a3f5f\"}, \"geo\": {\"bgcolor\": \"white\", \"lakecolor\": \"white\", \"landcolor\": \"#E5ECF6\", \"showlakes\": true, \"showland\": true, \"subunitcolor\": \"white\"}, \"hovermode\": \"closest\", \"mapbox\": {\"style\": \"light\"}, \"paper_bgcolor\": \"white\", \"plot_bgcolor\": \"#E5ECF6\", \"polar\": {\"angularaxis\": {\"gridcolor\": \"white\", \"linecolor\": \"white\", \"ticks\": \"\"}, \"bgcolor\": \"#E5ECF6\", \"radialaxis\": {\"gridcolor\": \"white\", \"linecolor\": \"white\", \"ticks\": \"\"}}, \"scene\": {\"xaxis\": {\"backgroundcolor\": \"#E5ECF6\", \"gridcolor\": \"white\", \"gridwidth\": 2, \"linecolor\": \"white\", \"showbackground\": true, \"ticks\": \"\", \"zerolinecolor\": \"white\"}, \"yaxis\": {\"backgroundcolor\": \"#E5ECF6\", \"gridcolor\": \"white\", \"gridwidth\": 2, \"linecolor\": \"white\", \"showbackground\": true, \"ticks\": \"\", \"zerolinecolor\": \"white\"}, \"zaxis\": {\"backgroundcolor\": \"#E5ECF6\", \"gridcolor\": \"white\", \"gridwidth\": 2, \"linecolor\": \"white\", \"showbackground\": true, \"ticks\": \"\", \"zerolinecolor\": \"white\"}}, \"shapedefaults\": {\"fillcolor\": \"#506784\", \"line\": {\"width\": 0}, \"opacity\": 0.4}, \"ternary\": {\"aaxis\": {\"gridcolor\": \"white\", \"linecolor\": \"white\", \"ticks\": \"\"}, \"baxis\": {\"gridcolor\": \"white\", \"linecolor\": \"white\", \"ticks\": \"\"}, \"bgcolor\": \"#E5ECF6\", \"caxis\": {\"gridcolor\": \"white\", \"linecolor\": \"white\", \"ticks\": \"\"}}, \"title\": {\"x\": 0.05}, \"xaxis\": {\"automargin\": true, \"gridcolor\": \"white\", \"linecolor\": \"white\", \"ticks\": \"\", \"zerolinecolor\": \"white\", \"zerolinewidth\": 2}, \"yaxis\": {\"automargin\": true, \"gridcolor\": \"white\", \"linecolor\": \"white\", \"ticks\": \"\", \"zerolinecolor\": \"white\", \"zerolinewidth\": 2}}}, \"grid\": {\"xaxes\": [\"x\"], \"yaxes\": [\"y\"], \"xgap\": 0.1, \"ygap\": 0.1, \"xside\": \"bottom\", \"yside\": \"left\"}, \"xaxis\": {\"title\": {\"text\": \"Date\"}}, \"yaxis\": {\"title\": {\"text\": \"CoE\"}}}, {\"showLink\": false, \"linkText\": \"Export to plot.ly\", \"plotlyServerURL\": \"https://plot.ly\"}); \n",
       "}\n",
       "});</script><script type=\"text/javascript\">window.addEventListener(\"resize\", function(){if (document.getElementById(\"2d35fa38-6a8e-4602-b16c-65a5080348e7\")) {window._Plotly.Plots.resize(document.getElementById(\"2d35fa38-6a8e-4602-b16c-65a5080348e7\"));};})</script>"
      ],
      "text/vnd.plotly.v1+html": [
       "<div id=\"2d35fa38-6a8e-4602-b16c-65a5080348e7\" style=\"height: 600px; width: 100%;\" class=\"plotly-graph-div\"></div><script type=\"text/javascript\">require([\"plotly\"], function(Plotly) { window.PLOTLYENV=window.PLOTLYENV || {};window.PLOTLYENV.BASE_URL=\"https://plot.ly\";\n",
       "if (document.getElementById(\"2d35fa38-6a8e-4602-b16c-65a5080348e7\")) {\n",
       "    Plotly.newPlot(\"2d35fa38-6a8e-4602-b16c-65a5080348e7\", [{\"hovertemplate\": \"<b>%{hovertext}</b><br><br>Export_Type=Gemstone<br>Date=%{x}<br>CoE=%{y}<br>Weight (Kg)=%{marker.size}<extra></extra>\", \"hovertext\": [\"Tourmaline\", \"Tourmaline\", \"Red_Garnet\", \"Tourmaline_Cabochon\", \"Amethyst_Quartz\", \"Topaz\", \"Red_Garnet\", \"Tourmaline_Cabochon\", \"Blue_Corundum\", \"Blue_Corundum\", \"Topaz\", \"Tourmaline\", \"Red_Garnet\", \"Tourmaline\", \"Rhodolite\", \"Amethyst_Quartz\", \"Mandarin_Garnets \", \"Topaz\", \"Aquamarine\", \"Aquamarine\", \"Aquamarine\", \"Aquamarine\", \"Aquamarine\", \"Aquamarine\", \"Aquamarine\", \"Amethyst_Quartz\", \"Rhodolite\", \"citrine\", \"quartz\", \"Rose_Quartz\", \"White_Quartz\", \"Cabochon_Sapphires \", \"Aquamarine\", \"Red_Garnet\", \"Tourmaline\", \"Rhodolite\", \"Green_tourmaline\", \"Aquamarine\", \"Garnet                                \", \"Tourmaline\", \"Amethyst_Quartz\"], \"legendgroup\": \"Export_Type=Gemstone\", \"marker\": {\"color\": \"#636efa\", \"size\": [0.04775, 0.06532, 0.04068, 0.00343, 0.0343, 0.00893, 0.0072299999999999994, 0.8, 70.0, 70.0, 2.74, 0.042, 0.027999999999999997, 0.017, 0.09, 105.0, 4.78, 22.0, 58.0, 400.0, 13.73, 0.02, 0.65, 2.0, 0.6, 2.0, 7.2, 1.0, 32.0, 11.7, 0.15, 3.85, 1.0, 7.0, 11.85, 29.15, 0.1, 0.114, 0.027960000000000002, 0.0035, 0.021], \"sizemode\": \"area\", \"sizeref\": 1.0, \"symbol\": \"circle\"}, \"mode\": \"markers\", \"name\": \"Export_Type=Gemstone\", \"showlegend\": true, \"x\": [\"1/7/2019\", \"1/7/2019\", \"1/7/2019\", \"1/7/2019\", \"1/7/2019\", \"1/7/2019\", \"1/7/2019\", \"1/7/2019\", \"1/7/2019\", \"1/7/2019\", \"1/8/2019\", \"1/8/2019\", \"1/8/2019\", \"1/8/2019\", \"1/8/2019\", \"1/8/2019\", \"1/8/2019\", \"1/8/2019\", \"1/9/2019\", \"1/9/2019\", \"1/9/2019\", \"1/22/2019\", \"2/6/2019\", \"2/6/2019\", \"2/6/2019\", \"2/9/2019\", \"2/9/2019\", \"2/12/2019\", \"2/12/2019\", \"2/12/2019\", \"2/12/2019\", \"2/12/2019\", \"2/12/2019\", \"2/12/2019\", \"2/12/2019\", \"2/12/2019\", \"2/26/2019\", \"3/5/2019\", \"3/5/2019\", \"3/5/2019\", \"3/5/2019\"], \"xaxis\": \"x\", \"y\": [\"DUBAI\", \"DUBAI\", \"DUBAI\", \"DUBAI\", \"DUBAI\", \"DUBAI\", \"DUBAI\", \"CHINA\", \"THAILAND\", \"THAILAND\", \"CHINA\", \"USA\", \"USA\", \"USA\", \"USA\", \"INDIA\", \"INDIA\", \"INDIA\", \"KENYA\", \"CHINA\", \"THAILAND\", \"ZAMBIA\", \"SRILANKA\", \"SRILANKA\", \"SRILANKA\", \"USA\", \"USA\", \"PAKISTAN\", \"USA\", \"PAKISTAN\", \"PAKISTAN\", \"PAKISTAN\", \"PAKISTAN\", \"USA\", \"USA\", \"USA\", \"RUSSIA\", \"USA\", \"USA\", \"USA\", \"USA\"], \"yaxis\": \"y\", \"type\": \"scatter\", \"uid\": \"351aa172-77bb-4368-a6ec-bc9678da7f99\"}, {\"hovertemplate\": \"<b>%{hovertext}</b><br><br>Export_Type=Mineral<br>Date=%{x}<br>CoE=%{y}<br>Weight (Kg)=%{marker.size}<extra></extra>\", \"hovertext\": [\"Soil samples\"], \"legendgroup\": \"Export_Type=Mineral\", \"marker\": {\"color\": \"#EF553B\", \"size\": [1.25], \"sizemode\": \"area\", \"sizeref\": 1.0, \"symbol\": \"circle\"}, \"mode\": \"markers\", \"name\": \"Export_Type=Mineral\", \"showlegend\": true, \"x\": [\"2/9/2019\"], \"xaxis\": \"x\", \"y\": [\"USA\"], \"yaxis\": \"y\", \"type\": \"scatter\", \"uid\": \"6bbb6175-d00c-40a0-9d93-7cfa74223066\"}], {\"height\": 600, \"legend\": {\"tracegroupgap\": 0}, \"margin\": {\"t\": 60}, \"template\": {\"data\": {\"barpolar\": [{\"marker\": {\"line\": {\"color\": \"#E5ECF6\", \"width\": 0.5}}, \"type\": \"barpolar\"}], \"bar\": [{\"marker\": {\"line\": {\"color\": \"#E5ECF6\", \"width\": 0.5}}, \"type\": \"bar\"}], \"carpet\": [{\"aaxis\": {\"endlinecolor\": \"#2a3f5f\", \"gridcolor\": \"white\", \"linecolor\": \"white\", \"minorgridcolor\": \"white\", \"startlinecolor\": \"#2a3f5f\"}, \"baxis\": {\"endlinecolor\": \"#2a3f5f\", \"gridcolor\": \"white\", \"linecolor\": \"white\", \"minorgridcolor\": \"white\", \"startlinecolor\": \"#2a3f5f\"}, \"type\": \"carpet\"}], \"choropleth\": [{\"colorbar\": {\"outlinewidth\": 0, \"ticks\": \"\"}, \"type\": \"choropleth\"}], \"contourcarpet\": [{\"colorbar\": {\"outlinewidth\": 0, \"ticks\": \"\"}, \"type\": \"contourcarpet\"}], \"contour\": [{\"autocolorscale\": true, \"colorbar\": {\"outlinewidth\": 0, \"ticks\": \"\"}, \"type\": \"contour\"}], \"heatmapgl\": [{\"colorbar\": {\"outlinewidth\": 0, \"ticks\": \"\"}, \"type\": \"heatmapgl\"}], \"heatmap\": [{\"autocolorscale\": true, \"colorbar\": {\"outlinewidth\": 0, \"ticks\": \"\"}, \"type\": \"heatmap\"}], \"histogram2dcontour\": [{\"autocolorscale\": true, \"colorbar\": {\"outlinewidth\": 0, \"ticks\": \"\"}, \"type\": \"histogram2dcontour\"}], \"histogram2d\": [{\"autocolorscale\": true, \"colorbar\": {\"outlinewidth\": 0, \"ticks\": \"\"}, \"type\": \"histogram2d\"}], \"histogram\": [{\"marker\": {\"colorbar\": {\"outlinewidth\": 0, \"ticks\": \"\"}}, \"type\": \"histogram\"}], \"mesh3d\": [{\"colorbar\": {\"outlinewidth\": 0, \"ticks\": \"\"}, \"type\": \"mesh3d\"}], \"parcoords\": [{\"line\": {\"colorbar\": {\"outlinewidth\": 0, \"ticks\": \"\"}}, \"type\": \"parcoords\"}], \"scatter3d\": [{\"marker\": {\"colorbar\": {\"outlinewidth\": 0, \"ticks\": \"\"}}, \"type\": \"scatter3d\"}], \"scattercarpet\": [{\"marker\": {\"colorbar\": {\"outlinewidth\": 0, \"ticks\": \"\"}}, \"type\": \"scattercarpet\"}], \"scattergeo\": [{\"marker\": {\"colorbar\": {\"outlinewidth\": 0, \"ticks\": \"\"}}, \"type\": \"scattergeo\"}], \"scattergl\": [{\"marker\": {\"colorbar\": {\"outlinewidth\": 0, \"ticks\": \"\"}}, \"type\": \"scattergl\"}], \"scattermapbox\": [{\"marker\": {\"colorbar\": {\"outlinewidth\": 0, \"ticks\": \"\"}}, \"type\": \"scattermapbox\"}], \"scatterpolargl\": [{\"marker\": {\"colorbar\": {\"outlinewidth\": 0, \"ticks\": \"\"}}, \"type\": \"scatterpolargl\"}], \"scatterpolar\": [{\"marker\": {\"colorbar\": {\"outlinewidth\": 0, \"ticks\": \"\"}}, \"type\": \"scatterpolar\"}], \"scatter\": [{\"marker\": {\"colorbar\": {\"outlinewidth\": 0, \"ticks\": \"\"}}, \"type\": \"scatter\"}], \"scatterternary\": [{\"marker\": {\"colorbar\": {\"outlinewidth\": 0, \"ticks\": \"\"}}, \"type\": \"scatterternary\"}], \"surface\": [{\"colorbar\": {\"outlinewidth\": 0, \"ticks\": \"\"}, \"type\": \"surface\"}], \"table\": [{\"cells\": {\"fill\": {\"color\": \"#EBF0F8\"}, \"line\": {\"color\": \"white\"}}, \"header\": {\"fill\": {\"color\": \"#C8D4E3\"}, \"line\": {\"color\": \"white\"}}, \"type\": \"table\"}]}, \"layout\": {\"annotationdefaults\": {\"arrowcolor\": \"#506784\", \"arrowhead\": 0, \"arrowwidth\": 1}, \"colorscale\": {\"diverging\": [[0, \"#8e0152\"], [0.1, \"#c51b7d\"], [0.2, \"#de77ae\"], [0.3, \"#f1b6da\"], [0.4, \"#fde0ef\"], [0.5, \"#f7f7f7\"], [0.6, \"#e6f5d0\"], [0.7, \"#b8e186\"], [0.8, \"#7fbc41\"], [0.9, \"#4d9221\"], [1, \"#276419\"]], \"sequential\": [[0.0, \"#0508b8\"], [0.0893854748603352, \"#1910d8\"], [0.1787709497206704, \"#3c19f0\"], [0.2681564245810056, \"#6b1cfb\"], [0.3575418994413408, \"#981cfd\"], [0.44692737430167595, \"#bf1cfd\"], [0.5363128491620112, \"#dd2bfd\"], [0.6256983240223464, \"#f246fe\"], [0.7150837988826816, \"#fc67fd\"], [0.8044692737430168, \"#fe88fc\"], [0.8938547486033519, \"#fea5fd\"], [0.9832402234636871, \"#febefe\"], [1.0, \"#fec3fe\"]], \"sequentialminus\": [[0.0, \"#0508b8\"], [0.0893854748603352, \"#1910d8\"], [0.1787709497206704, \"#3c19f0\"], [0.2681564245810056, \"#6b1cfb\"], [0.3575418994413408, \"#981cfd\"], [0.44692737430167595, \"#bf1cfd\"], [0.5363128491620112, \"#dd2bfd\"], [0.6256983240223464, \"#f246fe\"], [0.7150837988826816, \"#fc67fd\"], [0.8044692737430168, \"#fe88fc\"], [0.8938547486033519, \"#fea5fd\"], [0.9832402234636871, \"#febefe\"], [1.0, \"#fec3fe\"]]}, \"colorway\": [\"#636efa\", \"#EF553B\", \"#00cc96\", \"#ab63fa\", \"#19d3f3\", \"#e763fa\", \"#FECB52\", \"#FFA15A\", \"#FF6692\", \"#B6E880\"], \"font\": {\"color\": \"#2a3f5f\"}, \"geo\": {\"bgcolor\": \"white\", \"lakecolor\": \"white\", \"landcolor\": \"#E5ECF6\", \"showlakes\": true, \"showland\": true, \"subunitcolor\": \"white\"}, \"hovermode\": \"closest\", \"mapbox\": {\"style\": \"light\"}, \"paper_bgcolor\": \"white\", \"plot_bgcolor\": \"#E5ECF6\", \"polar\": {\"angularaxis\": {\"gridcolor\": \"white\", \"linecolor\": \"white\", \"ticks\": \"\"}, \"bgcolor\": \"#E5ECF6\", \"radialaxis\": {\"gridcolor\": \"white\", \"linecolor\": \"white\", \"ticks\": \"\"}}, \"scene\": {\"xaxis\": {\"backgroundcolor\": \"#E5ECF6\", \"gridcolor\": \"white\", \"gridwidth\": 2, \"linecolor\": \"white\", \"showbackground\": true, \"ticks\": \"\", \"zerolinecolor\": \"white\"}, \"yaxis\": {\"backgroundcolor\": \"#E5ECF6\", \"gridcolor\": \"white\", \"gridwidth\": 2, \"linecolor\": \"white\", \"showbackground\": true, \"ticks\": \"\", \"zerolinecolor\": \"white\"}, \"zaxis\": {\"backgroundcolor\": \"#E5ECF6\", \"gridcolor\": \"white\", \"gridwidth\": 2, \"linecolor\": \"white\", \"showbackground\": true, \"ticks\": \"\", \"zerolinecolor\": \"white\"}}, \"shapedefaults\": {\"fillcolor\": \"#506784\", \"line\": {\"width\": 0}, \"opacity\": 0.4}, \"ternary\": {\"aaxis\": {\"gridcolor\": \"white\", \"linecolor\": \"white\", \"ticks\": \"\"}, \"baxis\": {\"gridcolor\": \"white\", \"linecolor\": \"white\", \"ticks\": \"\"}, \"bgcolor\": \"#E5ECF6\", \"caxis\": {\"gridcolor\": \"white\", \"linecolor\": \"white\", \"ticks\": \"\"}}, \"title\": {\"x\": 0.05}, \"xaxis\": {\"automargin\": true, \"gridcolor\": \"white\", \"linecolor\": \"white\", \"ticks\": \"\", \"zerolinecolor\": \"white\", \"zerolinewidth\": 2}, \"yaxis\": {\"automargin\": true, \"gridcolor\": \"white\", \"linecolor\": \"white\", \"ticks\": \"\", \"zerolinecolor\": \"white\", \"zerolinewidth\": 2}}}, \"grid\": {\"xaxes\": [\"x\"], \"yaxes\": [\"y\"], \"xgap\": 0.1, \"ygap\": 0.1, \"xside\": \"bottom\", \"yside\": \"left\"}, \"xaxis\": {\"title\": {\"text\": \"Date\"}}, \"yaxis\": {\"title\": {\"text\": \"CoE\"}}}, {\"showLink\": false, \"linkText\": \"Export to plot.ly\", \"plotlyServerURL\": \"https://plot.ly\"}); \n",
       "}\n",
       "});</script><script type=\"text/javascript\">window.addEventListener(\"resize\", function(){if (document.getElementById(\"2d35fa38-6a8e-4602-b16c-65a5080348e7\")) {window._Plotly.Plots.resize(document.getElementById(\"2d35fa38-6a8e-4602-b16c-65a5080348e7\"));};})</script>"
      ]
     },
     "metadata": {},
     "output_type": "display_data"
    }
   ],
   "source": [
    "import ipywidgets as widgets\n",
    "from ipywidgets import interact, interact_manual\n",
    "import pandas as pd\n",
    "import plotly_express as px\n",
    "data= pd.DataFrame\n",
    "data=pd.read_csv('COI/allcoi.csv')\n",
    "data\n",
    "expo = data\n",
    "px.scatter(expo, x=\"Date\", y=\"CoE\", size=\"Weight (Kg)\", color=\"Export_Type\", hover_name=\"Export_Item(s)\")"
   ]
  },
  {
   "cell_type": "code",
   "execution_count": 14,
   "metadata": {},
   "outputs": [
    {
     "data": {
      "text/html": [
       "<div>\n",
       "<style scoped>\n",
       "    .dataframe tbody tr th:only-of-type {\n",
       "        vertical-align: middle;\n",
       "    }\n",
       "\n",
       "    .dataframe tbody tr th {\n",
       "        vertical-align: top;\n",
       "    }\n",
       "\n",
       "    .dataframe thead th {\n",
       "        text-align: right;\n",
       "    }\n",
       "</style>\n",
       "<table border=\"1\" class=\"dataframe\">\n",
       "  <thead>\n",
       "    <tr style=\"text-align: right;\">\n",
       "      <th></th>\n",
       "      <th>Export_Item(s)</th>\n",
       "      <th>Weight (Kg)</th>\n",
       "      <th>Date</th>\n",
       "      <th>CoE</th>\n",
       "      <th>PoE</th>\n",
       "      <th>Type</th>\n",
       "    </tr>\n",
       "  </thead>\n",
       "  <tbody>\n",
       "    <tr>\n",
       "      <th>0</th>\n",
       "      <td>Tourmaline</td>\n",
       "      <td>0.04775</td>\n",
       "      <td>1/7/2019</td>\n",
       "      <td>DUBAI</td>\n",
       "      <td>KIA</td>\n",
       "      <td>RML</td>\n",
       "    </tr>\n",
       "    <tr>\n",
       "      <th>1</th>\n",
       "      <td>Tourmaline</td>\n",
       "      <td>0.06532</td>\n",
       "      <td>1/7/2019</td>\n",
       "      <td>DUBAI</td>\n",
       "      <td>KIA</td>\n",
       "      <td>RML</td>\n",
       "    </tr>\n",
       "    <tr>\n",
       "      <th>2</th>\n",
       "      <td>Red_Garnet</td>\n",
       "      <td>0.04068</td>\n",
       "      <td>1/7/2019</td>\n",
       "      <td>DUBAI</td>\n",
       "      <td>KIA</td>\n",
       "      <td>RML</td>\n",
       "    </tr>\n",
       "    <tr>\n",
       "      <th>3</th>\n",
       "      <td>Tourmaline_Cabochon</td>\n",
       "      <td>0.00343</td>\n",
       "      <td>1/7/2019</td>\n",
       "      <td>DUBAI</td>\n",
       "      <td>KIA</td>\n",
       "      <td>RML</td>\n",
       "    </tr>\n",
       "    <tr>\n",
       "      <th>4</th>\n",
       "      <td>Amethyst_Quartz</td>\n",
       "      <td>0.03430</td>\n",
       "      <td>1/7/2019</td>\n",
       "      <td>DUBAI</td>\n",
       "      <td>KIA</td>\n",
       "      <td>RML</td>\n",
       "    </tr>\n",
       "    <tr>\n",
       "      <th>5</th>\n",
       "      <td>Topaz</td>\n",
       "      <td>0.00893</td>\n",
       "      <td>1/7/2019</td>\n",
       "      <td>DUBAI</td>\n",
       "      <td>KIA</td>\n",
       "      <td>RML</td>\n",
       "    </tr>\n",
       "    <tr>\n",
       "      <th>6</th>\n",
       "      <td>Red_Garnet</td>\n",
       "      <td>0.00723</td>\n",
       "      <td>1/7/2019</td>\n",
       "      <td>DUBAI</td>\n",
       "      <td>KIA</td>\n",
       "      <td>RML</td>\n",
       "    </tr>\n",
       "    <tr>\n",
       "      <th>7</th>\n",
       "      <td>Tourmaline_Cabochon</td>\n",
       "      <td>0.80000</td>\n",
       "      <td>1/7/2019</td>\n",
       "      <td>CHINA</td>\n",
       "      <td>KIA</td>\n",
       "      <td>RML</td>\n",
       "    </tr>\n",
       "    <tr>\n",
       "      <th>8</th>\n",
       "      <td>Blue_Corundum</td>\n",
       "      <td>70.00000</td>\n",
       "      <td>1/7/2019</td>\n",
       "      <td>THAILAND</td>\n",
       "      <td>KIA</td>\n",
       "      <td>RML</td>\n",
       "    </tr>\n",
       "    <tr>\n",
       "      <th>9</th>\n",
       "      <td>Blue_Corundum</td>\n",
       "      <td>70.00000</td>\n",
       "      <td>1/7/2019</td>\n",
       "      <td>THAILAND</td>\n",
       "      <td>KIA</td>\n",
       "      <td>RML</td>\n",
       "    </tr>\n",
       "    <tr>\n",
       "      <th>10</th>\n",
       "      <td>Topaz</td>\n",
       "      <td>2.74000</td>\n",
       "      <td>1/8/2019</td>\n",
       "      <td>CHINA</td>\n",
       "      <td>KIA</td>\n",
       "      <td>RML</td>\n",
       "    </tr>\n",
       "    <tr>\n",
       "      <th>11</th>\n",
       "      <td>Tourmaline</td>\n",
       "      <td>0.04200</td>\n",
       "      <td>1/8/2019</td>\n",
       "      <td>USA</td>\n",
       "      <td>KIA</td>\n",
       "      <td>RML</td>\n",
       "    </tr>\n",
       "    <tr>\n",
       "      <th>12</th>\n",
       "      <td>Red_Garnet</td>\n",
       "      <td>0.02800</td>\n",
       "      <td>1/8/2019</td>\n",
       "      <td>USA</td>\n",
       "      <td>KIA</td>\n",
       "      <td>RML</td>\n",
       "    </tr>\n",
       "    <tr>\n",
       "      <th>13</th>\n",
       "      <td>Tourmaline</td>\n",
       "      <td>0.01700</td>\n",
       "      <td>1/8/2019</td>\n",
       "      <td>USA</td>\n",
       "      <td>KIA</td>\n",
       "      <td>RML</td>\n",
       "    </tr>\n",
       "    <tr>\n",
       "      <th>14</th>\n",
       "      <td>Rhodolite</td>\n",
       "      <td>0.09000</td>\n",
       "      <td>1/8/2019</td>\n",
       "      <td>USA</td>\n",
       "      <td>KIA</td>\n",
       "      <td>RML</td>\n",
       "    </tr>\n",
       "    <tr>\n",
       "      <th>15</th>\n",
       "      <td>Amethyst_Quartz</td>\n",
       "      <td>105.00000</td>\n",
       "      <td>1/8/2019</td>\n",
       "      <td>INDIA</td>\n",
       "      <td>KIA</td>\n",
       "      <td>RML</td>\n",
       "    </tr>\n",
       "    <tr>\n",
       "      <th>16</th>\n",
       "      <td>Mandarin_Garnets</td>\n",
       "      <td>4.78000</td>\n",
       "      <td>1/8/2019</td>\n",
       "      <td>INDIA</td>\n",
       "      <td>KIA</td>\n",
       "      <td>RML</td>\n",
       "    </tr>\n",
       "    <tr>\n",
       "      <th>17</th>\n",
       "      <td>Topaz</td>\n",
       "      <td>22.00000</td>\n",
       "      <td>1/8/2019</td>\n",
       "      <td>INDIA</td>\n",
       "      <td>KIA</td>\n",
       "      <td>RML</td>\n",
       "    </tr>\n",
       "    <tr>\n",
       "      <th>18</th>\n",
       "      <td>Aquamarine</td>\n",
       "      <td>58.00000</td>\n",
       "      <td>1/9/2019</td>\n",
       "      <td>KENYA</td>\n",
       "      <td>KIA</td>\n",
       "      <td>RML</td>\n",
       "    </tr>\n",
       "    <tr>\n",
       "      <th>19</th>\n",
       "      <td>Aquamarine</td>\n",
       "      <td>400.00000</td>\n",
       "      <td>1/9/2019</td>\n",
       "      <td>CHINA</td>\n",
       "      <td>KIA</td>\n",
       "      <td>RML</td>\n",
       "    </tr>\n",
       "    <tr>\n",
       "      <th>20</th>\n",
       "      <td>Aquamarine</td>\n",
       "      <td>13.73000</td>\n",
       "      <td>1/9/2019</td>\n",
       "      <td>THAILAND</td>\n",
       "      <td>KIA</td>\n",
       "      <td>RML</td>\n",
       "    </tr>\n",
       "    <tr>\n",
       "      <th>21</th>\n",
       "      <td>Aquamarine</td>\n",
       "      <td>0.02000</td>\n",
       "      <td>1/22/2019</td>\n",
       "      <td>ZAMBIA</td>\n",
       "      <td>KIA</td>\n",
       "      <td>RML</td>\n",
       "    </tr>\n",
       "    <tr>\n",
       "      <th>22</th>\n",
       "      <td>Aquamarine</td>\n",
       "      <td>0.65000</td>\n",
       "      <td>2/6/2019</td>\n",
       "      <td>SRILANKA</td>\n",
       "      <td>KIA</td>\n",
       "      <td>RML</td>\n",
       "    </tr>\n",
       "    <tr>\n",
       "      <th>23</th>\n",
       "      <td>Aquamarine</td>\n",
       "      <td>2.00000</td>\n",
       "      <td>2/6/2019</td>\n",
       "      <td>SRILANKA</td>\n",
       "      <td>KIA</td>\n",
       "      <td>RML</td>\n",
       "    </tr>\n",
       "    <tr>\n",
       "      <th>24</th>\n",
       "      <td>Aquamarine</td>\n",
       "      <td>0.60000</td>\n",
       "      <td>2/6/2019</td>\n",
       "      <td>SRILANKA</td>\n",
       "      <td>KIA</td>\n",
       "      <td>RML</td>\n",
       "    </tr>\n",
       "    <tr>\n",
       "      <th>25</th>\n",
       "      <td>Soil samples</td>\n",
       "      <td>1.25000</td>\n",
       "      <td>2/9/2019</td>\n",
       "      <td>USA</td>\n",
       "      <td>KIA</td>\n",
       "      <td>RML</td>\n",
       "    </tr>\n",
       "    <tr>\n",
       "      <th>26</th>\n",
       "      <td>Amethyst_Quartz</td>\n",
       "      <td>2.00000</td>\n",
       "      <td>2/9/2019</td>\n",
       "      <td>USA</td>\n",
       "      <td>KIA</td>\n",
       "      <td>RML</td>\n",
       "    </tr>\n",
       "    <tr>\n",
       "      <th>27</th>\n",
       "      <td>Rhodolite</td>\n",
       "      <td>7.20000</td>\n",
       "      <td>2/9/2019</td>\n",
       "      <td>USA</td>\n",
       "      <td>KIA</td>\n",
       "      <td>RML</td>\n",
       "    </tr>\n",
       "    <tr>\n",
       "      <th>28</th>\n",
       "      <td>citrine</td>\n",
       "      <td>1.00000</td>\n",
       "      <td>2/12/2019</td>\n",
       "      <td>PAKISTAN</td>\n",
       "      <td>KIA</td>\n",
       "      <td>RML</td>\n",
       "    </tr>\n",
       "    <tr>\n",
       "      <th>29</th>\n",
       "      <td>quartz</td>\n",
       "      <td>32.00000</td>\n",
       "      <td>2/12/2019</td>\n",
       "      <td>USA</td>\n",
       "      <td>KIA</td>\n",
       "      <td>RML</td>\n",
       "    </tr>\n",
       "    <tr>\n",
       "      <th>30</th>\n",
       "      <td>Rose_Quartz</td>\n",
       "      <td>11.70000</td>\n",
       "      <td>2/12/2019</td>\n",
       "      <td>PAKISTAN</td>\n",
       "      <td>KIA</td>\n",
       "      <td>RML</td>\n",
       "    </tr>\n",
       "    <tr>\n",
       "      <th>31</th>\n",
       "      <td>White_Quartz</td>\n",
       "      <td>0.15000</td>\n",
       "      <td>2/12/2019</td>\n",
       "      <td>PAKISTAN</td>\n",
       "      <td>KIA</td>\n",
       "      <td>RML</td>\n",
       "    </tr>\n",
       "    <tr>\n",
       "      <th>32</th>\n",
       "      <td>Cabochon_Sapphires</td>\n",
       "      <td>3.85000</td>\n",
       "      <td>2/12/2019</td>\n",
       "      <td>PAKISTAN</td>\n",
       "      <td>KIA</td>\n",
       "      <td>RML</td>\n",
       "    </tr>\n",
       "    <tr>\n",
       "      <th>33</th>\n",
       "      <td>Aquamarine</td>\n",
       "      <td>1.00000</td>\n",
       "      <td>2/12/2019</td>\n",
       "      <td>PAKISTAN</td>\n",
       "      <td>KIA</td>\n",
       "      <td>RML</td>\n",
       "    </tr>\n",
       "    <tr>\n",
       "      <th>34</th>\n",
       "      <td>Red_Garnet</td>\n",
       "      <td>7.00000</td>\n",
       "      <td>2/12/2019</td>\n",
       "      <td>USA</td>\n",
       "      <td>KIA</td>\n",
       "      <td>RML</td>\n",
       "    </tr>\n",
       "    <tr>\n",
       "      <th>35</th>\n",
       "      <td>Tourmaline</td>\n",
       "      <td>11.85000</td>\n",
       "      <td>2/12/2019</td>\n",
       "      <td>USA</td>\n",
       "      <td>KIA</td>\n",
       "      <td>RML</td>\n",
       "    </tr>\n",
       "    <tr>\n",
       "      <th>36</th>\n",
       "      <td>Rhodolite</td>\n",
       "      <td>29.15000</td>\n",
       "      <td>2/12/2019</td>\n",
       "      <td>USA</td>\n",
       "      <td>KIA</td>\n",
       "      <td>RML</td>\n",
       "    </tr>\n",
       "    <tr>\n",
       "      <th>37</th>\n",
       "      <td>Green_tourmaline</td>\n",
       "      <td>0.10000</td>\n",
       "      <td>2/26/2019</td>\n",
       "      <td>RUSSIA</td>\n",
       "      <td>KIA</td>\n",
       "      <td>RML</td>\n",
       "    </tr>\n",
       "    <tr>\n",
       "      <th>38</th>\n",
       "      <td>Aquamarine</td>\n",
       "      <td>0.11400</td>\n",
       "      <td>3/5/2019</td>\n",
       "      <td>USA</td>\n",
       "      <td>KIA</td>\n",
       "      <td>RML</td>\n",
       "    </tr>\n",
       "    <tr>\n",
       "      <th>39</th>\n",
       "      <td>Garnet</td>\n",
       "      <td>0.02796</td>\n",
       "      <td>3/5/2019</td>\n",
       "      <td>USA</td>\n",
       "      <td>KIA</td>\n",
       "      <td>RML</td>\n",
       "    </tr>\n",
       "    <tr>\n",
       "      <th>40</th>\n",
       "      <td>Tourmaline</td>\n",
       "      <td>0.00350</td>\n",
       "      <td>3/5/2019</td>\n",
       "      <td>USA</td>\n",
       "      <td>KIA</td>\n",
       "      <td>RML</td>\n",
       "    </tr>\n",
       "    <tr>\n",
       "      <th>41</th>\n",
       "      <td>Amethyst_Quartz</td>\n",
       "      <td>0.02100</td>\n",
       "      <td>3/5/2019</td>\n",
       "      <td>USA</td>\n",
       "      <td>KIA</td>\n",
       "      <td>RML</td>\n",
       "    </tr>\n",
       "  </tbody>\n",
       "</table>\n",
       "</div>"
      ],
      "text/plain": [
       "                            Export_Item(s)  Weight (Kg)       Date       CoE  \\\n",
       "0                               Tourmaline      0.04775   1/7/2019     DUBAI   \n",
       "1                               Tourmaline      0.06532   1/7/2019     DUBAI   \n",
       "2                               Red_Garnet      0.04068   1/7/2019     DUBAI   \n",
       "3                      Tourmaline_Cabochon      0.00343   1/7/2019     DUBAI   \n",
       "4                          Amethyst_Quartz      0.03430   1/7/2019     DUBAI   \n",
       "5                                    Topaz      0.00893   1/7/2019     DUBAI   \n",
       "6                               Red_Garnet      0.00723   1/7/2019     DUBAI   \n",
       "7                      Tourmaline_Cabochon      0.80000   1/7/2019     CHINA   \n",
       "8                            Blue_Corundum     70.00000   1/7/2019  THAILAND   \n",
       "9                            Blue_Corundum     70.00000   1/7/2019  THAILAND   \n",
       "10                                   Topaz      2.74000   1/8/2019     CHINA   \n",
       "11                              Tourmaline      0.04200   1/8/2019       USA   \n",
       "12                              Red_Garnet      0.02800   1/8/2019       USA   \n",
       "13                              Tourmaline      0.01700   1/8/2019       USA   \n",
       "14                               Rhodolite      0.09000   1/8/2019       USA   \n",
       "15                         Amethyst_Quartz    105.00000   1/8/2019     INDIA   \n",
       "16                       Mandarin_Garnets       4.78000   1/8/2019     INDIA   \n",
       "17                                   Topaz     22.00000   1/8/2019     INDIA   \n",
       "18                              Aquamarine     58.00000   1/9/2019     KENYA   \n",
       "19                              Aquamarine    400.00000   1/9/2019     CHINA   \n",
       "20                              Aquamarine     13.73000   1/9/2019  THAILAND   \n",
       "21                              Aquamarine      0.02000  1/22/2019    ZAMBIA   \n",
       "22                              Aquamarine      0.65000   2/6/2019  SRILANKA   \n",
       "23                              Aquamarine      2.00000   2/6/2019  SRILANKA   \n",
       "24                              Aquamarine      0.60000   2/6/2019  SRILANKA   \n",
       "25                            Soil samples      1.25000   2/9/2019       USA   \n",
       "26                         Amethyst_Quartz      2.00000   2/9/2019       USA   \n",
       "27                               Rhodolite      7.20000   2/9/2019       USA   \n",
       "28                                 citrine      1.00000  2/12/2019  PAKISTAN   \n",
       "29                                  quartz     32.00000  2/12/2019       USA   \n",
       "30                             Rose_Quartz     11.70000  2/12/2019  PAKISTAN   \n",
       "31                            White_Quartz      0.15000  2/12/2019  PAKISTAN   \n",
       "32                     Cabochon_Sapphires       3.85000  2/12/2019  PAKISTAN   \n",
       "33                              Aquamarine      1.00000  2/12/2019  PAKISTAN   \n",
       "34                              Red_Garnet      7.00000  2/12/2019       USA   \n",
       "35                              Tourmaline     11.85000  2/12/2019       USA   \n",
       "36                               Rhodolite     29.15000  2/12/2019       USA   \n",
       "37                        Green_tourmaline      0.10000  2/26/2019    RUSSIA   \n",
       "38                              Aquamarine      0.11400   3/5/2019       USA   \n",
       "39  Garnet                                      0.02796   3/5/2019       USA   \n",
       "40                              Tourmaline      0.00350   3/5/2019       USA   \n",
       "41                         Amethyst_Quartz      0.02100   3/5/2019       USA   \n",
       "\n",
       "    PoE Type  \n",
       "0   KIA  RML  \n",
       "1   KIA  RML  \n",
       "2   KIA  RML  \n",
       "3   KIA  RML  \n",
       "4   KIA  RML  \n",
       "5   KIA  RML  \n",
       "6   KIA  RML  \n",
       "7   KIA  RML  \n",
       "8   KIA  RML  \n",
       "9   KIA  RML  \n",
       "10  KIA  RML  \n",
       "11  KIA  RML  \n",
       "12  KIA  RML  \n",
       "13  KIA  RML  \n",
       "14  KIA  RML  \n",
       "15  KIA  RML  \n",
       "16  KIA  RML  \n",
       "17  KIA  RML  \n",
       "18  KIA  RML  \n",
       "19  KIA  RML  \n",
       "20  KIA  RML  \n",
       "21  KIA  RML  \n",
       "22  KIA  RML  \n",
       "23  KIA  RML  \n",
       "24  KIA  RML  \n",
       "25  KIA  RML  \n",
       "26  KIA  RML  \n",
       "27  KIA  RML  \n",
       "28  KIA  RML  \n",
       "29  KIA  RML  \n",
       "30  KIA  RML  \n",
       "31  KIA  RML  \n",
       "32  KIA  RML  \n",
       "33  KIA  RML  \n",
       "34  KIA  RML  \n",
       "35  KIA  RML  \n",
       "36  KIA  RML  \n",
       "37  KIA  RML  \n",
       "38  KIA  RML  \n",
       "39  KIA  RML  \n",
       "40  KIA  RML  \n",
       "41  KIA  RML  "
      ]
     },
     "execution_count": 14,
     "metadata": {},
     "output_type": "execute_result"
    }
   ],
   "source": []
  },
  {
   "cell_type": "code",
   "execution_count": null,
   "metadata": {},
   "outputs": [],
   "source": []
  }
 ],
 "metadata": {
  "kernelspec": {
   "display_name": "Python 3",
   "language": "python",
   "name": "python3"
  },
  "language_info": {
   "codemirror_mode": {
    "name": "ipython",
    "version": 3
   },
   "file_extension": ".py",
   "mimetype": "text/x-python",
   "name": "python",
   "nbconvert_exporter": "python",
   "pygments_lexer": "ipython3",
   "version": "3.6.5"
  },
  "toc-autonumbering": false,
  "toc-showcode": true,
  "toc-showmarkdowntxt": true
 },
 "nbformat": 4,
 "nbformat_minor": 2
}
